{
 "cells": [
  {
   "cell_type": "code",
   "execution_count": 67,
   "metadata": {},
   "outputs": [],
   "source": [
    "%matplotlib inline\n",
    "#import seaborn as sns\n",
    "import numpy as np\n",
    "import pandas as pd\n",
    "import matplotlib.pyplot as plt\n",
    "from sklearn import metrics\n",
    "from ipywidgets import interact, interactive, fixed, interact_manual\n",
    "from scipy.spatial.distance import cdist, pdist\n",
    "from scipy.spatial import distance_matrix\n",
    "import time\n",
    "from collections import Counter\n",
    "import bisect\n",
    "\n",
    "train = pd.read_csv('./train.csv')\n",
    "test = pd.read_csv('./test.csv')\n",
    "\n",
    "trainDataFrame = train\n",
    "trainDataLabels = trainDataFrame[trainDataFrame.columns[0]].values\n",
    "testDataFrame = test\n"
   ]
  },
  {
   "cell_type": "code",
   "execution_count": 106,
   "metadata": {},
   "outputs": [],
   "source": [
    "def predict(trainDataSets, testData, labels, k, n):\n",
    "    print(testData.shape, trainDataSets.shape)\n",
    "    dists = cdist(testData, trainDataSets, 'euclidean')\n",
    "    lookup = np.matrix.argsort(dists)\n",
    "    prediction = []\n",
    "    rangeArray = np.arange(k)\n",
    "    for j in range (n):\n",
    "        potentialLabels = [labels[lookup[j][i]] for i in rangeArray]\n",
    "        res = Counter(potentialLabels)\n",
    "        value, count = res.most_common(1)[0]\n",
    "        prediction.append(value)\n",
    "    print prediction\n"
   ]
  },
  {
   "cell_type": "code",
   "execution_count": 117,
   "metadata": {
    "scrolled": false
   },
   "outputs": [
    {
     "name": "stdout",
     "output_type": "stream",
     "text": [
      "No module named ipyparallel\n",
      "\n"
     ]
    },
    {
     "ename": "AttributeError",
     "evalue": "client",
     "output_type": "error",
     "traceback": [
      "\u001b[1;31m---------------------------------------------------------------------------\u001b[0m",
      "\u001b[1;31mAttributeError\u001b[0m                            Traceback (most recent call last)",
      "\u001b[1;32m<ipython-input-117-65cbd253a1cc>\u001b[0m in \u001b[0;36m<module>\u001b[1;34m()\u001b[0m\n\u001b[0;32m      1\u001b[0m \u001b[1;32mfrom\u001b[0m \u001b[0mIPython\u001b[0m \u001b[1;32mimport\u001b[0m \u001b[0mparallel\u001b[0m\u001b[1;33m\u001b[0m\u001b[0m\n\u001b[0;32m      2\u001b[0m \u001b[0mhelp\u001b[0m\u001b[1;33m(\u001b[0m\u001b[0mparallel\u001b[0m\u001b[1;33m)\u001b[0m\u001b[1;33m\u001b[0m\u001b[0m\n\u001b[1;32m----> 3\u001b[1;33m \u001b[0mrc\u001b[0m \u001b[1;33m=\u001b[0m \u001b[0mparallel\u001b[0m\u001b[1;33m.\u001b[0m\u001b[0mclient\u001b[0m\u001b[1;33m(\u001b[0m\u001b[1;33m)\u001b[0m\u001b[1;33m\u001b[0m\u001b[0m\n\u001b[0m\u001b[0;32m      4\u001b[0m \u001b[0mlv\u001b[0m \u001b[1;33m=\u001b[0m \u001b[0mrc\u001b[0m\u001b[1;33m.\u001b[0m\u001b[0mload_balanced_view\u001b[0m\u001b[1;33m(\u001b[0m\u001b[1;33m)\u001b[0m\u001b[1;33m\u001b[0m\u001b[0m\n\u001b[0;32m      5\u001b[0m \u001b[1;32mprint\u001b[0m \u001b[0mlen\u001b[0m\u001b[1;33m(\u001b[0m\u001b[0mlv\u001b[0m\u001b[1;33m)\u001b[0m\u001b[1;33m\u001b[0m\u001b[0m\n",
      "\u001b[1;32mC:\\Users\\fredz\\Anaconda2\\lib\\site-packages\\IPython\\utils\\shimmodule.py\u001b[0m in \u001b[0;36m__getattr__\u001b[1;34m(self, key)\u001b[0m\n\u001b[0;32m     90\u001b[0m             \u001b[1;32mreturn\u001b[0m \u001b[0mimport_item\u001b[0m\u001b[1;33m(\u001b[0m\u001b[0mname\u001b[0m\u001b[1;33m)\u001b[0m\u001b[1;33m\u001b[0m\u001b[0m\n\u001b[0;32m     91\u001b[0m         \u001b[1;32mexcept\u001b[0m \u001b[0mImportError\u001b[0m\u001b[1;33m:\u001b[0m\u001b[1;33m\u001b[0m\u001b[0m\n\u001b[1;32m---> 92\u001b[1;33m             \u001b[1;32mraise\u001b[0m \u001b[0mAttributeError\u001b[0m\u001b[1;33m(\u001b[0m\u001b[0mkey\u001b[0m\u001b[1;33m)\u001b[0m\u001b[1;33m\u001b[0m\u001b[0m\n\u001b[0m",
      "\u001b[1;31mAttributeError\u001b[0m: client"
     ]
    }
   ],
   "source": [
    "from IPython import parallel\n",
    "\n",
    "rc = parallel.client()\n",
    "lv = rc.load_balanced_view()\n",
    "\n",
    "def knn_main(n,k):\n",
    "    train_forKNN = np.array(trainDataFrame.ix[:, 1:])\n",
    "    test_forKNN = np.array(testDataFrame.ix[:n,:])\n",
    "\n",
    "    label = predict(train_forKNN, test_forKNN, trainDataLabels, k, n)\n",
    "\n",
    "lv.map_sync(knn_main(10,5))"
   ]
  },
  {
   "cell_type": "code",
   "execution_count": 105,
   "metadata": {
    "scrolled": false
   },
   "outputs": [
    {
     "name": "stderr",
     "output_type": "stream",
     "text": [
      "Widget Javascript not detected.  It may not be installed or enabled properly.\n"
     ]
    },
    {
     "data": {
      "application/vnd.jupyter.widget-view+json": {
       "model_id": "bcc629d9977c438e9db517f0d502bb64"
      }
     },
     "metadata": {},
     "output_type": "display_data"
    },
    {
     "data": {
      "image/png": "[encoded data removed]",
      "text/plain": [
       "<matplotlib.figure.Figure at 0x1420f128>"
      ]
     },
     "metadata": {},
     "output_type": "display_data"
    }
   ],
   "source": [
    "train_shape = train.drop(['label'], axis = 1)\n",
    "train_label = train['label']\n",
    "\n",
    "train_shape_matrix = train_shape.as_matrix()\n",
    "\n",
    "def show_image(n):\n",
    "    print \"Label:\", train_label[n]\n",
    "    plt.matshow(train_shape_matrix[n].reshape(28,28), cmap='gray')\n",
    "    \n",
    "interact(show_image, n=(0, 41999));"
   ]
  },
  {
   "cell_type": "code",
   "execution_count": null,
   "metadata": {},
   "outputs": [],
   "source": [
    "print (train_label.value_counts(ascending=True)/len(train_label))\n",
    "\n",
    "sns.set_color_codes()\n",
    "\n",
    "sns.distplot(train_label, color='y')"
   ]
  },
  {
   "cell_type": "code",
   "execution_count": null,
   "metadata": {},
   "outputs": [],
   "source": [
    "def findNearest():\n",
    "    numberCount = np.arange(10)\n",
    "    nearestMatrix = []\n",
    "    train_transform = trainDataFrame.ix[:, 1:]\n",
    "    for i in xrange(len(trainDataLabels)):\n",
    "        if trainDataLabels[i] in numberCount:\n",
    "            dist = cdist(np.reshape(train_transform.ix[i, :],(1,784)), train_transform, 'euclidean')\n",
    "            nearestItem = np.argsort(dist)[0][1]\n",
    "            if (trainDataLabels[nearestItem] == trainDataLabels[i]):\n",
    "                nearestMatrix.append((trainDataLabels[i],nearestItem,\"Right prediction\"))\n",
    "            else:\n",
    "                nearestMatrix.append((trainDataLabels[i],nearestItem,\"Wrong prediction\"))\n",
    "            numberCount = np.delete(numberCount, np.argwhere(numberCount == trainDataLabels[i]))\n",
    "    print nearestMatrix\n",
    "        \n",
    "findNearest()"
   ]
  },
  {
   "cell_type": "code",
   "execution_count": 30,
   "metadata": {},
   "outputs": [
    {
     "data": {
      "text/plain": [
       "<matplotlib.legend.Legend at 0x1dbf3d30>"
      ]
     },
     "execution_count": 30,
     "metadata": {},
     "output_type": "execute_result"
    },
    {
     "data": {
      "image/png": "[encoded data removed]",
      "text/plain": [
       "<matplotlib.figure.Figure at 0x6d4e1d0>"
      ]
     },
     "metadata": {},
     "output_type": "display_data"
    }
   ],
   "source": [
    "train_0 = train.loc[train['label'] == 0]\n",
    "train_1 = train.loc[train['label'] == 1]\n",
    "\n",
    "pdist_0 = pdist(train_0)\n",
    "pdist_1 = pdist(train_1)\n",
    "genuineList = np.append(pdist_0, pdist_1)\n",
    "\n",
    "pdist_01 = distance_matrix(train_0, train_1)\n",
    "imposterList = pdist_01.reshape(1, pdist_01.size)\n",
    "\n",
    "sns.distplot(genuineList, color='y',label=\"Genuine\", kde=0, norm_hist=0)\n",
    "sns.distplot(imposterList, label=\"Imposter\", kde=0, norm_hist=0)\n",
    "plt.legend()"
   ]
  },
  {
   "cell_type": "code",
   "execution_count": 98,
   "metadata": {
    "scrolled": false
   },
   "outputs": [
    {
     "data": {
      "text/plain": [
       "<matplotlib.text.Text at 0x1bc62da0>"
      ]
     },
     "execution_count": 98,
     "metadata": {},
     "output_type": "execute_result"
    },
    {
     "data": {
      "image/png": "[encoded data removed]",
      "text/plain": [
       "<matplotlib.figure.Figure at 0x2012a5f8>"
      ]
     },
     "metadata": {},
     "output_type": "display_data"
    }
   ],
   "source": [
    "fpr = []\n",
    "tpr = []\n",
    "\n",
    "imposterList = pdist_01.reshape(1, pdist_01.size)[0]\n",
    "\n",
    "genuineList.sort()\n",
    "imposterList.sort()\n",
    "\n",
    "maxDistance = max(genuineList[len(genuineList)-1], imposterList[len(imposterList)-1])\n",
    "\n",
    "for i in range(0, int(maxDistance), 1):\n",
    "    fpr.append(100.0 * bisect.bisect_left(imposterList, i)/float(len(genuineList)))\n",
    "    tpr.append(100.0 * bisect.bisect_left(genuineList, i)/float(len(genuineList)))\n",
    "\n",
    "plt.plot(fpr, tpr, '-o')\n",
    "plt.title(\"ROC Curve\")\n",
    "plt.xlabel(\"FPR\")\n",
    "plt.ylabel(\"TPR\")"
   ]
  },
  {
   "cell_type": "code",
   "execution_count": 100,
   "metadata": {},
   "outputs": [
    {
     "name": "stdout",
     "output_type": "stream",
     "text": [
      "Equal Error Rate: 18.51%\n"
     ]
    }
   ],
   "source": [
    "fprtprList = np.add(fpr, tpr)\n",
    "idx = np.abs(fprtprList-100).argmin()\n",
    "print(\"Equal Error Rate: \" + \"{0:.2f}\".format(fpr[idx]) + \"%\")"
   ]
  },
  {
   "cell_type": "code",
   "execution_count": null,
   "metadata": {
    "scrolled": false
   },
   "outputs": [
    {
     "name": "stdout",
     "output_type": "stream",
     "text": [
      "(1400, 784) (2800, 784)\n",
      "(1400, 784) (2800, 784)\n"
     ]
    }
   ],
   "source": [
    "crossValidation(5, 4200, 3)"
   ]
  },
  {
   "cell_type": "code",
   "execution_count": 19,
   "metadata": {
    "collapsed": true
   },
   "outputs": [],
   "source": []
  },
  {
   "cell_type": "code",
   "execution_count": null,
   "metadata": {
    "collapsed": true
   },
   "outputs": [],
   "source": []
  }
 ],
 "metadata": {
  "anaconda-cloud": {},
  "kernelspec": {
   "display_name": "Python [conda env:condavirtual]",
   "language": "python",
   "name": "conda-env-condavirtual-py"
  },
  "language_info": {
   "codemirror_mode": {
    "name": "ipython",
    "version": 3
   },
   "file_extension": ".py",
   "mimetype": "text/x-python",
   "name": "python",
   "nbconvert_exporter": "python",
   "pygments_lexer": "ipython3",
   "version": "3.5.2"
  }
 },
 "nbformat": 4,
 "nbformat_minor": 2
}
