{
 "cells": [
  {
   "cell_type": "code",
   "execution_count": 49,
   "metadata": {
    "collapsed": true
   },
   "outputs": [],
   "source": [
    "from sklearn.linear_model import LogisticRegression\n",
    "import pandas as pd\n",
    "import matplotlib.pyplot as plt"
   ]
  },
  {
   "cell_type": "code",
   "execution_count": 50,
   "metadata": {
    "collapsed": true
   },
   "outputs": [],
   "source": [
    "trainDf = pd.read_csv('train_titanic.csv')\n",
    "testDf = pd.read_csv('test_titanic.csv')"
   ]
  },
  {
   "cell_type": "code",
   "execution_count": 51,
   "metadata": {
    "collapsed": false
   },
   "outputs": [],
   "source": [
    "trainLabels = trainDf['Survived'].values\n",
    "logistic = LogisticRegression()\n",
    "\n"
   ]
  },
  {
   "cell_type": "code",
   "execution_count": 52,
   "metadata": {
    "collapsed": false
   },
   "outputs": [],
   "source": [
    "trainDf['Sex'] = trainDf['Sex'].apply(lambda sex:1 if sex=='male' else 0)\n",
    "trainDf['Age'] = trainDf['Age'].fillna(trainDf['Age'].mean())\n",
    "trainDf['Fare'] = trainDf['Fare'].fillna(trainDf['Fare'].mean())\n",
    "cols = ['Pclass', 'Sex', 'Age', 'Parch', 'Fare']\n",
    "trainData = trainDf[cols].values\n",
    "\n",
    "testDf['Sex'] = testDf['Sex'].apply(lambda sex:1 if sex=='male' else 0)\n",
    "testDf['Age'] = testDf['Age'].fillna(testDf['Age'].mean())\n",
    "testDf['Fare'] = testDf['Fare'].fillna(testDf['Fare'].mean())\n",
    "cols = ['Pclass', 'Sex', 'Age', 'Parch', 'Fare']\n",
    "passengerId = testDf['PassengerId']\n",
    "testData = testDf[cols].values"
   ]
  },
  {
   "cell_type": "code",
   "execution_count": 53,
   "metadata": {
    "collapsed": false
   },
   "outputs": [
    {
     "data": {
      "text/plain": [
       "LogisticRegression(C=1.0, class_weight=None, dual=False, fit_intercept=True,\n",
       "          intercept_scaling=1, max_iter=100, multi_class='ovr', n_jobs=1,\n",
       "          penalty='l2', random_state=None, solver='liblinear', tol=0.0001,\n",
       "          verbose=0, warm_start=False)"
      ]
     },
     "execution_count": 53,
     "metadata": {},
     "output_type": "execute_result"
    }
   ],
   "source": [
    "logistic.fit(trainData, trainLabels)"
   ]
  },
  {
   "cell_type": "code",
   "execution_count": 54,
   "metadata": {
    "collapsed": false
   },
   "outputs": [],
   "source": [
    "prediction = logistic.predict(testData)\n",
    "out = pd.DataFrame(columns=['PassengerId', 'Survived'])\n",
    "out['PassengerId'] = passengerId\n",
    "out['Survived'] = prediction.astype(int)\n",
    "out.to_csv('logisticRegressionSubmit.csv', index=False)"
   ]
  },
  {
   "cell_type": "code",
   "execution_count": null,
   "metadata": {
    "collapsed": true
   },
   "outputs": [],
   "source": []
  }
 ],
 "metadata": {
  "anaconda-cloud": {},
  "kernelspec": {
   "display_name": "Python [conda env:condavirtual]",
   "language": "python",
   "name": "conda-env-condavirtual-py"
  },
  "language_info": {
   "codemirror_mode": {
    "name": "ipython",
    "version": 3
   },
   "file_extension": ".py",
   "mimetype": "text/x-python",
   "name": "python",
   "nbconvert_exporter": "python",
   "pygments_lexer": "ipython3",
   "version": "3.5.2"
  }
 },
 "nbformat": 4,
 "nbformat_minor": 1
}
